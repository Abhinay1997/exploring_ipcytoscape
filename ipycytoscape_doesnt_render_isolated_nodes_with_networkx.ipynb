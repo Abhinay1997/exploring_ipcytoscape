{
  "nbformat": 4,
  "nbformat_minor": 0,
  "metadata": {
    "colab": {
      "name": "ipycytoscape_doesnt_render_isolated_nodes_with_networkx.ipynb",
      "provenance": [],
      "authorship_tag": "ABX9TyMzP3e8SrwnUMjUnouIQjRV",
      "include_colab_link": true
    },
    "kernelspec": {
      "name": "python3",
      "display_name": "Python 3"
    },
    "widgets": {
      "application/vnd.jupyter.widget-state+json": {
        "f0a3ac1383d9458c973b4d3534a3976a": {
          "model_module": "jupyter-cytoscape",
          "model_name": "CytoscapeModel",
          "state": {
            "_view_name": "CytoscapeView",
            "style_enabled": true,
            "_view_module": "jupyter-cytoscape",
            "max_zoom": 1e+50,
            "_model_module_version": "^1.0.2",
            "_view_count": null,
            "touch_tap_threshold": 8,
            "min_zoom": 1e-50,
            "_model_module": "jupyter-cytoscape",
            "wheel_sensitivity": 1,
            "user_panning_enabled": true,
            "layout": "IPY_MODEL_0b56a4851fb9488fa4db605f3a24c51e",
            "graph": "IPY_MODEL_d91c137d8e68486086969812ef6a406a",
            "pixel_ratio": "auto",
            "selection_type": "single",
            "motion_blur_opacity": 0.2,
            "desktop_tap_threshold": 4,
            "rendered_position": {
              "renderedPosition": {
                "y": 100,
                "x": 100
              }
            },
            "autolock": false,
            "texture_on_viewport": false,
            "tooltip_source": "tooltip",
            "_interaction_handlers": {},
            "_dom_classes": [],
            "_model_name": "CytoscapeModel",
            "auto_ungrabify": false,
            "zooming_enabled": true,
            "cytoscape_style": [
              {
                "css": {
                  "background-color": "#11479e"
                },
                "selector": "node"
              },
              {
                "css": {
                  "background-opacity": 0.333
                },
                "selector": "node:parent"
              },
              {
                "style": {
                  "width": 4,
                  "line-color": "#9dbaea"
                },
                "selector": "edge"
              },
              {
                "style": {
                  "target-arrow-shape": "triangle",
                  "curve-style": "bezier",
                  "target-arrow-color": "#9dbaea"
                },
                "selector": "edge.directed"
              }
            ],
            "hide_edges_on_viewport": false,
            "box_selection_enabled": false,
            "motion_blur": false,
            "cytoscape_layout": {
              "name": "cola"
            },
            "auto_unselectify": true,
            "zoom": 2,
            "headless": false,
            "_view_module_version": "^1.0.2",
            "user_zooming_enabled": true,
            "panning_enabled": true
          }
        }
      }
    }
  },
  "cells": [
    {
      "cell_type": "markdown",
      "metadata": {
        "id": "view-in-github",
        "colab_type": "text"
      },
      "source": [
        "<a href=\"https://colab.research.google.com/github/Abhinay1997/exploring_ipcytoscape/blob/master/ipycytoscape_doesnt_render_isolated_nodes_with_networkx.ipynb\" target=\"_parent\"><img src=\"https://colab.research.google.com/assets/colab-badge.svg\" alt=\"Open In Colab\"/></a>"
      ]
    },
    {
      "cell_type": "markdown",
      "metadata": {
        "id": "PPQmvFmkoQvP",
        "colab_type": "text"
      },
      "source": [
        "### Using ipycytoscape networkx method\n",
        "\n",
        "Issue: When plotting a graph desgined in networkx with ipycytoscape, the rendered graph doesn't show isolated nodes.\n"
      ]
    },
    {
      "cell_type": "code",
      "metadata": {
        "id": "U-fa2C4enFDg",
        "colab_type": "code",
        "colab": {}
      },
      "source": [
        "!pip install networkx ipycytoscape"
      ],
      "execution_count": null,
      "outputs": []
    },
    {
      "cell_type": "code",
      "metadata": {
        "id": "44jBTASCnPWD",
        "colab_type": "code",
        "colab": {}
      },
      "source": [
        "import ipycytoscape\n",
        "import networkx as nx"
      ],
      "execution_count": 2,
      "outputs": []
    },
    {
      "cell_type": "code",
      "metadata": {
        "id": "Sl5QezdXnckg",
        "colab_type": "code",
        "colab": {
          "base_uri": "https://localhost:8080/",
          "height": 51
        },
        "outputId": "2313cdfe-f02c-4368-edff-11b5467a5f07"
      },
      "source": [
        "print(\"Using ipycytoscape version:\",ipycytoscape.__version__)\n",
        "print(\"Using networkx version:\",nx.__version__)"
      ],
      "execution_count": 3,
      "outputs": [
        {
          "output_type": "stream",
          "text": [
            "Using ipycytoscape version: 1.0.2\n",
            "Using networkx version: 2.4\n"
          ],
          "name": "stdout"
        }
      ]
    },
    {
      "cell_type": "markdown",
      "metadata": {
        "id": "VKhvjh17oOOb",
        "colab_type": "text"
      },
      "source": [
        ""
      ]
    },
    {
      "cell_type": "code",
      "metadata": {
        "id": "XlFesIjpnq1Q",
        "colab_type": "code",
        "colab": {
          "base_uri": "https://localhost:8080/",
          "height": 319
        },
        "outputId": "4af49be6-6dbe-4036-d2a6-45f13173e6e1"
      },
      "source": [
        "g = nx.Graph()\n",
        "\n",
        "g.add_edge(0,1)\n",
        "g.add_edge(0,2)\n",
        "g.add_edge(1,3)\n",
        "g.add_edge(1,4)\n",
        "g.add_edge(2,3)\n",
        "g.add_edge(3,4)\n",
        "g.add_node(5)\n",
        "\n",
        "pos = nx.circular_layout(g)\n",
        "nx.draw(g, pos,with_labels = True, node_color = 'c', edge_color = 'black', node_size = 800) \n"
      ],
      "execution_count": 9,
      "outputs": [
        {
          "output_type": "display_data",
          "data": {
            "image/png": "[encoded data removed]",
            "text/plain": [
              "<Figure size 432x288 with 1 Axes>"
            ]
          },
          "metadata": {
            "tags": []
          }
        }
      ]
    },
    {
      "cell_type": "markdown",
      "metadata": {
        "id": "-CUbvZeppPm1",
        "colab_type": "text"
      },
      "source": [
        "#### Rendering it with ipycytoscape doesn't show node 5 as an isolated node."
      ]
    },
    {
      "cell_type": "code",
      "metadata": {
        "id": "5dUGHXaUpOml",
        "colab_type": "code",
        "colab": {
          "base_uri": "https://localhost:8080/",
          "height": 17,
          "referenced_widgets": [
            "f0a3ac1383d9458c973b4d3534a3976a"
          ]
        },
        "outputId": "4171c6a5-7570-4287-ab92-70aaaf95d21f"
      },
      "source": [
        "graph_renderer = ipycytoscape.CytoscapeWidget()\n",
        "graph_renderer.graph.add_graph_from_networkx(g, directed=False)\n",
        "\n",
        "graph_renderer"
      ],
      "execution_count": 11,
      "outputs": [
        {
          "output_type": "display_data",
          "data": {
            "application/vnd.jupyter.widget-view+json": {
              "model_id": "f0a3ac1383d9458c973b4d3534a3976a",
              "version_minor": 0,
              "version_major": 2
            },
            "text/plain": [
              "CytoscapeWidget(cytoscape_layout={'name': 'cola'}, cytoscape_style=[{'selector': 'node', 'css': {'background-c…"
            ]
          },
          "metadata": {
            "tags": []
          }
        }
      ]
    }
  ]
}